{
 "cells": [
  {
   "cell_type": "markdown",
   "metadata": {},
   "source": [
    "# Problem Statement"
   ]
  },
  {
   "cell_type": "markdown",
   "metadata": {},
   "source": [
    "We have all been in situation where we go to a doctor in emergency and find that the consultation fees are too high. As a data scientist we all should do better. What if you have data that records important details about a doctor and you get to build a model to predict the doctor’s consulting fee.? This is the use case that let's you do that."
   ]
  },
  {
   "cell_type": "markdown",
   "metadata": {},
   "source": [
    "### FEATURES"
   ]
  },
  {
   "cell_type": "markdown",
   "metadata": {},
   "source": [
    "Qualification: Qualification and degrees held by the doctor\n",
    "\n",
    "Experience: Experience of the doctor in number of years\n",
    "\n",
    "Rating: Rating given by patients\n",
    "\n",
    "Profile: Type of the doctor\n",
    "\n",
    "Miscellaneous_Info: Extra information about the doctor\n",
    "\n",
    "Fees: Fees charged by the doctor (Target Variable)\n",
    "\n",
    "Place: Area and the city where the doctor is located\n",
    "\n"
   ]
  },
  {
   "cell_type": "code",
   "execution_count": 79,
   "metadata": {},
   "outputs": [],
   "source": [
    "#Importing some neccessary libraries\n",
    "import pandas as pd\n",
    "import numpy as np\n",
    "import warnings\n",
    "warnings.filterwarnings(\"ignore\")"
   ]
  },
  {
   "cell_type": "code",
   "execution_count": 80,
   "metadata": {},
   "outputs": [],
   "source": [
    "train=pd.read_excel('Final_Train.xlsx')\n",
    "test=pd.read_excel('Final_Test.xlsx')"
   ]
  },
  {
   "cell_type": "code",
   "execution_count": 81,
   "metadata": {},
   "outputs": [
    {
     "data": {
      "text/html": [
       "<div>\n",
       "<style scoped>\n",
       "    .dataframe tbody tr th:only-of-type {\n",
       "        vertical-align: middle;\n",
       "    }\n",
       "\n",
       "    .dataframe tbody tr th {\n",
       "        vertical-align: top;\n",
       "    }\n",
       "\n",
       "    .dataframe thead th {\n",
       "        text-align: right;\n",
       "    }\n",
       "</style>\n",
       "<table border=\"1\" class=\"dataframe\">\n",
       "  <thead>\n",
       "    <tr style=\"text-align: right;\">\n",
       "      <th></th>\n",
       "      <th>Experience</th>\n",
       "      <th>Fees</th>\n",
       "      <th>Miscellaneous_Info</th>\n",
       "      <th>Place</th>\n",
       "      <th>Profile</th>\n",
       "      <th>Qualification</th>\n",
       "      <th>Rating</th>\n",
       "    </tr>\n",
       "  </thead>\n",
       "  <tbody>\n",
       "    <tr>\n",
       "      <td>0</td>\n",
       "      <td>24 years experience</td>\n",
       "      <td>100.0</td>\n",
       "      <td>100% 16 Feedback Kakkanad, Ernakulam</td>\n",
       "      <td>Kakkanad, Ernakulam</td>\n",
       "      <td>Homeopath</td>\n",
       "      <td>BHMS, MD - Homeopathy</td>\n",
       "      <td>100%</td>\n",
       "    </tr>\n",
       "    <tr>\n",
       "      <td>1</td>\n",
       "      <td>12 years experience</td>\n",
       "      <td>350.0</td>\n",
       "      <td>98% 76 Feedback Whitefield, Bangalore</td>\n",
       "      <td>Whitefield, Bangalore</td>\n",
       "      <td>Ayurveda</td>\n",
       "      <td>BAMS, MD - Ayurveda Medicine</td>\n",
       "      <td>98%</td>\n",
       "    </tr>\n",
       "    <tr>\n",
       "      <td>2</td>\n",
       "      <td>9 years experience</td>\n",
       "      <td>300.0</td>\n",
       "      <td>NaN</td>\n",
       "      <td>Mathikere - BEL, Bangalore</td>\n",
       "      <td>ENT Specialist</td>\n",
       "      <td>MBBS, MS - Otorhinolaryngology</td>\n",
       "      <td>NaN</td>\n",
       "    </tr>\n",
       "    <tr>\n",
       "      <td>3</td>\n",
       "      <td>12 years experience</td>\n",
       "      <td>250.0</td>\n",
       "      <td>Bannerghatta Road, Bangalore ₹250 Available on...</td>\n",
       "      <td>Bannerghatta Road, Bangalore</td>\n",
       "      <td>Ayurveda</td>\n",
       "      <td>BSc - Zoology, BAMS</td>\n",
       "      <td>NaN</td>\n",
       "    </tr>\n",
       "    <tr>\n",
       "      <td>4</td>\n",
       "      <td>20 years experience</td>\n",
       "      <td>250.0</td>\n",
       "      <td>100% 4 Feedback Keelkattalai, Chennai</td>\n",
       "      <td>Keelkattalai, Chennai</td>\n",
       "      <td>Ayurveda</td>\n",
       "      <td>BAMS</td>\n",
       "      <td>100%</td>\n",
       "    </tr>\n",
       "    <tr>\n",
       "      <td>...</td>\n",
       "      <td>...</td>\n",
       "      <td>...</td>\n",
       "      <td>...</td>\n",
       "      <td>...</td>\n",
       "      <td>...</td>\n",
       "      <td>...</td>\n",
       "      <td>...</td>\n",
       "    </tr>\n",
       "    <tr>\n",
       "      <td>1982</td>\n",
       "      <td>10 years experience</td>\n",
       "      <td>NaN</td>\n",
       "      <td>NaN</td>\n",
       "      <td>Basavanagudi, Bangalore</td>\n",
       "      <td>Ayurveda</td>\n",
       "      <td>BAMS, Doctor of Medicine</td>\n",
       "      <td>NaN</td>\n",
       "    </tr>\n",
       "    <tr>\n",
       "      <td>1983</td>\n",
       "      <td>4 years experience</td>\n",
       "      <td>NaN</td>\n",
       "      <td>NaN</td>\n",
       "      <td>Choolai, Chennai</td>\n",
       "      <td>Dermatologists</td>\n",
       "      <td>MD - Dermatology , Venereology &amp; Leprosy, MBBS</td>\n",
       "      <td>NaN</td>\n",
       "    </tr>\n",
       "    <tr>\n",
       "      <td>1984</td>\n",
       "      <td>9 years experience</td>\n",
       "      <td>NaN</td>\n",
       "      <td>NaN</td>\n",
       "      <td>Porur, Chennai</td>\n",
       "      <td>General Medicine</td>\n",
       "      <td>MBBS, MD / MS - Obstetrics &amp; Gynaecology</td>\n",
       "      <td>NaN</td>\n",
       "    </tr>\n",
       "    <tr>\n",
       "      <td>1985</td>\n",
       "      <td>12 years experience</td>\n",
       "      <td>NaN</td>\n",
       "      <td>RCT - Root Canal Treatment Root Canal Treatmen...</td>\n",
       "      <td>Arekere, Bangalore</td>\n",
       "      <td>Dentist</td>\n",
       "      <td>BDS</td>\n",
       "      <td>98%</td>\n",
       "    </tr>\n",
       "    <tr>\n",
       "      <td>1986</td>\n",
       "      <td>8 years experience</td>\n",
       "      <td>NaN</td>\n",
       "      <td>1 Feedback Pallikaranai, Chennai ₹500</td>\n",
       "      <td>Pallikaranai, Chennai</td>\n",
       "      <td>Dermatologists</td>\n",
       "      <td>MBBS, MD - Dermatology , Venereology &amp; Leprosy</td>\n",
       "      <td>NaN</td>\n",
       "    </tr>\n",
       "  </tbody>\n",
       "</table>\n",
       "<p>7948 rows × 7 columns</p>\n",
       "</div>"
      ],
      "text/plain": [
       "               Experience   Fees  \\\n",
       "0     24 years experience  100.0   \n",
       "1     12 years experience  350.0   \n",
       "2      9 years experience  300.0   \n",
       "3     12 years experience  250.0   \n",
       "4     20 years experience  250.0   \n",
       "...                   ...    ...   \n",
       "1982  10 years experience    NaN   \n",
       "1983   4 years experience    NaN   \n",
       "1984   9 years experience    NaN   \n",
       "1985  12 years experience    NaN   \n",
       "1986   8 years experience    NaN   \n",
       "\n",
       "                                     Miscellaneous_Info  \\\n",
       "0                  100% 16 Feedback Kakkanad, Ernakulam   \n",
       "1                 98% 76 Feedback Whitefield, Bangalore   \n",
       "2                                                   NaN   \n",
       "3     Bannerghatta Road, Bangalore ₹250 Available on...   \n",
       "4                 100% 4 Feedback Keelkattalai, Chennai   \n",
       "...                                                 ...   \n",
       "1982                                                NaN   \n",
       "1983                                                NaN   \n",
       "1984                                                NaN   \n",
       "1985  RCT - Root Canal Treatment Root Canal Treatmen...   \n",
       "1986              1 Feedback Pallikaranai, Chennai ₹500   \n",
       "\n",
       "                             Place           Profile  \\\n",
       "0              Kakkanad, Ernakulam         Homeopath   \n",
       "1            Whitefield, Bangalore          Ayurveda   \n",
       "2       Mathikere - BEL, Bangalore    ENT Specialist   \n",
       "3     Bannerghatta Road, Bangalore          Ayurveda   \n",
       "4            Keelkattalai, Chennai          Ayurveda   \n",
       "...                            ...               ...   \n",
       "1982       Basavanagudi, Bangalore          Ayurveda   \n",
       "1983              Choolai, Chennai    Dermatologists   \n",
       "1984                Porur, Chennai  General Medicine   \n",
       "1985            Arekere, Bangalore           Dentist   \n",
       "1986         Pallikaranai, Chennai    Dermatologists   \n",
       "\n",
       "                                       Qualification Rating  \n",
       "0                              BHMS, MD - Homeopathy   100%  \n",
       "1                       BAMS, MD - Ayurveda Medicine    98%  \n",
       "2                     MBBS, MS - Otorhinolaryngology    NaN  \n",
       "3                                BSc - Zoology, BAMS    NaN  \n",
       "4                                               BAMS   100%  \n",
       "...                                              ...    ...  \n",
       "1982                        BAMS, Doctor of Medicine    NaN  \n",
       "1983  MD - Dermatology , Venereology & Leprosy, MBBS    NaN  \n",
       "1984        MBBS, MD / MS - Obstetrics & Gynaecology    NaN  \n",
       "1985                                             BDS    98%  \n",
       "1986  MBBS, MD - Dermatology , Venereology & Leprosy    NaN  \n",
       "\n",
       "[7948 rows x 7 columns]"
      ]
     },
     "execution_count": 81,
     "metadata": {},
     "output_type": "execute_result"
    }
   ],
   "source": [
    "df_doc=pd.concat([train,test])\n",
    "df_doc"
   ]
  },
  {
   "cell_type": "code",
   "execution_count": 82,
   "metadata": {},
   "outputs": [
    {
     "data": {
      "text/plain": [
       "((5961, 7), (1987, 6))"
      ]
     },
     "execution_count": 82,
     "metadata": {},
     "output_type": "execute_result"
    }
   ],
   "source": [
    "train.shape, test.shape"
   ]
  },
  {
   "cell_type": "code",
   "execution_count": 83,
   "metadata": {},
   "outputs": [
    {
     "data": {
      "text/plain": [
       "Experience               0\n",
       "Fees                  1987\n",
       "Miscellaneous_Info    3454\n",
       "Place                   31\n",
       "Profile                  0\n",
       "Qualification            0\n",
       "Rating                4392\n",
       "dtype: int64"
      ]
     },
     "execution_count": 83,
     "metadata": {},
     "output_type": "execute_result"
    }
   ],
   "source": [
    "#Checking for null values\n",
    "df_doc.isnull().sum()"
   ]
  },
  {
   "cell_type": "markdown",
   "metadata": {},
   "source": [
    "We can see that Missing 'Fees' belongs to the test data, where as 'Rating' is a important columns we can't drop but we can fill the null values"
   ]
  },
  {
   "cell_type": "code",
   "execution_count": 84,
   "metadata": {},
   "outputs": [],
   "source": [
    "#Filling null values\n",
    "df_doc[\"Miscellaneous_Info\"].fillna(\"missing\",inplace=True)\n",
    "df_doc[\"Rating\"].fillna('0%',inplace=True)"
   ]
  },
  {
   "cell_type": "code",
   "execution_count": 85,
   "metadata": {},
   "outputs": [
    {
     "data": {
      "text/html": [
       "<div>\n",
       "<style scoped>\n",
       "    .dataframe tbody tr th:only-of-type {\n",
       "        vertical-align: middle;\n",
       "    }\n",
       "\n",
       "    .dataframe tbody tr th {\n",
       "        vertical-align: top;\n",
       "    }\n",
       "\n",
       "    .dataframe thead th {\n",
       "        text-align: right;\n",
       "    }\n",
       "</style>\n",
       "<table border=\"1\" class=\"dataframe\">\n",
       "  <thead>\n",
       "    <tr style=\"text-align: right;\">\n",
       "      <th></th>\n",
       "      <th>Experience</th>\n",
       "      <th>Fees</th>\n",
       "      <th>Miscellaneous_Info</th>\n",
       "      <th>Place</th>\n",
       "      <th>Profile</th>\n",
       "      <th>Qualification</th>\n",
       "      <th>Rating</th>\n",
       "    </tr>\n",
       "  </thead>\n",
       "  <tbody>\n",
       "    <tr>\n",
       "      <td>0</td>\n",
       "      <td>24 years experience</td>\n",
       "      <td>100.0</td>\n",
       "      <td>100% 16 Feedback Kakkanad, Ernakulam</td>\n",
       "      <td>Kakkanad, Ernakulam</td>\n",
       "      <td>Homeopath</td>\n",
       "      <td>BHMS, MD - Homeopathy</td>\n",
       "      <td>100%</td>\n",
       "    </tr>\n",
       "    <tr>\n",
       "      <td>1</td>\n",
       "      <td>12 years experience</td>\n",
       "      <td>350.0</td>\n",
       "      <td>98% 76 Feedback Whitefield, Bangalore</td>\n",
       "      <td>Whitefield, Bangalore</td>\n",
       "      <td>Ayurveda</td>\n",
       "      <td>BAMS, MD - Ayurveda Medicine</td>\n",
       "      <td>98%</td>\n",
       "    </tr>\n",
       "    <tr>\n",
       "      <td>2</td>\n",
       "      <td>9 years experience</td>\n",
       "      <td>300.0</td>\n",
       "      <td>missing</td>\n",
       "      <td>Mathikere - BEL, Bangalore</td>\n",
       "      <td>ENT Specialist</td>\n",
       "      <td>MBBS, MS - Otorhinolaryngology</td>\n",
       "      <td>0%</td>\n",
       "    </tr>\n",
       "    <tr>\n",
       "      <td>3</td>\n",
       "      <td>12 years experience</td>\n",
       "      <td>250.0</td>\n",
       "      <td>Bannerghatta Road, Bangalore ₹250 Available on...</td>\n",
       "      <td>Bannerghatta Road, Bangalore</td>\n",
       "      <td>Ayurveda</td>\n",
       "      <td>BSc - Zoology, BAMS</td>\n",
       "      <td>0%</td>\n",
       "    </tr>\n",
       "    <tr>\n",
       "      <td>4</td>\n",
       "      <td>20 years experience</td>\n",
       "      <td>250.0</td>\n",
       "      <td>100% 4 Feedback Keelkattalai, Chennai</td>\n",
       "      <td>Keelkattalai, Chennai</td>\n",
       "      <td>Ayurveda</td>\n",
       "      <td>BAMS</td>\n",
       "      <td>100%</td>\n",
       "    </tr>\n",
       "  </tbody>\n",
       "</table>\n",
       "</div>"
      ],
      "text/plain": [
       "            Experience   Fees  \\\n",
       "0  24 years experience  100.0   \n",
       "1  12 years experience  350.0   \n",
       "2   9 years experience  300.0   \n",
       "3  12 years experience  250.0   \n",
       "4  20 years experience  250.0   \n",
       "\n",
       "                                  Miscellaneous_Info  \\\n",
       "0               100% 16 Feedback Kakkanad, Ernakulam   \n",
       "1              98% 76 Feedback Whitefield, Bangalore   \n",
       "2                                            missing   \n",
       "3  Bannerghatta Road, Bangalore ₹250 Available on...   \n",
       "4              100% 4 Feedback Keelkattalai, Chennai   \n",
       "\n",
       "                          Place         Profile  \\\n",
       "0           Kakkanad, Ernakulam       Homeopath   \n",
       "1         Whitefield, Bangalore        Ayurveda   \n",
       "2    Mathikere - BEL, Bangalore  ENT Specialist   \n",
       "3  Bannerghatta Road, Bangalore        Ayurveda   \n",
       "4         Keelkattalai, Chennai        Ayurveda   \n",
       "\n",
       "                    Qualification Rating  \n",
       "0           BHMS, MD - Homeopathy   100%  \n",
       "1    BAMS, MD - Ayurveda Medicine    98%  \n",
       "2  MBBS, MS - Otorhinolaryngology     0%  \n",
       "3             BSc - Zoology, BAMS     0%  \n",
       "4                            BAMS   100%  "
      ]
     },
     "execution_count": 85,
     "metadata": {},
     "output_type": "execute_result"
    }
   ],
   "source": [
    "df_doc.head()"
   ]
  },
  {
   "cell_type": "code",
   "execution_count": 86,
   "metadata": {},
   "outputs": [
    {
     "data": {
      "text/plain": [
       "Experience               0\n",
       "Fees                  1987\n",
       "Miscellaneous_Info       0\n",
       "Place                   31\n",
       "Profile                  0\n",
       "Qualification            0\n",
       "Rating                   0\n",
       "dtype: int64"
      ]
     },
     "execution_count": 86,
     "metadata": {},
     "output_type": "execute_result"
    }
   ],
   "source": [
    "#Again checking for null values\n",
    "df_doc.isnull().sum()"
   ]
  },
  {
   "cell_type": "markdown",
   "metadata": {},
   "source": [
    "We have huge data so either we can drop the these 31 places rows or replace with top places"
   ]
  },
  {
   "cell_type": "code",
   "execution_count": 94,
   "metadata": {},
   "outputs": [],
   "source": [
    "#Dropping null rows\n",
    "df_doc.dropna(subset=['Place'],inplace=True)"
   ]
  },
  {
   "cell_type": "code",
   "execution_count": 95,
   "metadata": {},
   "outputs": [
    {
     "data": {
      "text/plain": [
       "Experience               0\n",
       "Fees                  1981\n",
       "Miscellaneous_Info       0\n",
       "Place                    0\n",
       "Profile                  0\n",
       "Qualification            0\n",
       "Rating                   0\n",
       "dtype: int64"
      ]
     },
     "execution_count": 95,
     "metadata": {},
     "output_type": "execute_result"
    }
   ],
   "source": [
    "#Again checking for null values\n",
    "df_doc.isnull().sum()"
   ]
  },
  {
   "cell_type": "markdown",
   "metadata": {},
   "source": [
    "We can see that all the missing/null values are now replaced/filled/removed except the test 'Fees'"
   ]
  },
  {
   "cell_type": "code",
   "execution_count": 96,
   "metadata": {},
   "outputs": [],
   "source": [
    "#Striping off \" years experience\"\n",
    "df_doc[\"Experience\"]=df_doc[\"Experience\"].str.strip(\" years experience\").astype(int)"
   ]
  },
  {
   "cell_type": "code",
   "execution_count": 97,
   "metadata": {},
   "outputs": [
    {
     "data": {
      "text/plain": [
       "0    24\n",
       "1    12\n",
       "2     9\n",
       "3    12\n",
       "4    20\n",
       "Name: Experience, dtype: int32"
      ]
     },
     "execution_count": 97,
     "metadata": {},
     "output_type": "execute_result"
    }
   ],
   "source": [
    "df_doc[\"Experience\"].head()"
   ]
  },
  {
   "cell_type": "code",
   "execution_count": 99,
   "metadata": {},
   "outputs": [],
   "source": [
    "df_doc['Locality'] = df_doc['Place'].str.split(',').str[0]\n",
    "df_doc['City'] = df_doc['Place'].str.split(',').str[1]"
   ]
  },
  {
   "cell_type": "code",
   "execution_count": 100,
   "metadata": {},
   "outputs": [
    {
     "data": {
      "text/html": [
       "<div>\n",
       "<style scoped>\n",
       "    .dataframe tbody tr th:only-of-type {\n",
       "        vertical-align: middle;\n",
       "    }\n",
       "\n",
       "    .dataframe tbody tr th {\n",
       "        vertical-align: top;\n",
       "    }\n",
       "\n",
       "    .dataframe thead th {\n",
       "        text-align: right;\n",
       "    }\n",
       "</style>\n",
       "<table border=\"1\" class=\"dataframe\">\n",
       "  <thead>\n",
       "    <tr style=\"text-align: right;\">\n",
       "      <th></th>\n",
       "      <th>Experience</th>\n",
       "      <th>Fees</th>\n",
       "      <th>Miscellaneous_Info</th>\n",
       "      <th>Place</th>\n",
       "      <th>Profile</th>\n",
       "      <th>Qualification</th>\n",
       "      <th>Rating</th>\n",
       "      <th>Locality</th>\n",
       "      <th>City</th>\n",
       "    </tr>\n",
       "  </thead>\n",
       "  <tbody>\n",
       "    <tr>\n",
       "      <td>0</td>\n",
       "      <td>24</td>\n",
       "      <td>100.0</td>\n",
       "      <td>100% 16 Feedback Kakkanad, Ernakulam</td>\n",
       "      <td>Kakkanad, Ernakulam</td>\n",
       "      <td>Homeopath</td>\n",
       "      <td>BHMS, MD - Homeopathy</td>\n",
       "      <td>100%</td>\n",
       "      <td>Kakkanad</td>\n",
       "      <td>Ernakulam</td>\n",
       "    </tr>\n",
       "    <tr>\n",
       "      <td>1</td>\n",
       "      <td>12</td>\n",
       "      <td>350.0</td>\n",
       "      <td>98% 76 Feedback Whitefield, Bangalore</td>\n",
       "      <td>Whitefield, Bangalore</td>\n",
       "      <td>Ayurveda</td>\n",
       "      <td>BAMS, MD - Ayurveda Medicine</td>\n",
       "      <td>98%</td>\n",
       "      <td>Whitefield</td>\n",
       "      <td>Bangalore</td>\n",
       "    </tr>\n",
       "    <tr>\n",
       "      <td>2</td>\n",
       "      <td>9</td>\n",
       "      <td>300.0</td>\n",
       "      <td>missing</td>\n",
       "      <td>Mathikere - BEL, Bangalore</td>\n",
       "      <td>ENT Specialist</td>\n",
       "      <td>MBBS, MS - Otorhinolaryngology</td>\n",
       "      <td>0%</td>\n",
       "      <td>Mathikere - BEL</td>\n",
       "      <td>Bangalore</td>\n",
       "    </tr>\n",
       "    <tr>\n",
       "      <td>3</td>\n",
       "      <td>12</td>\n",
       "      <td>250.0</td>\n",
       "      <td>Bannerghatta Road, Bangalore ₹250 Available on...</td>\n",
       "      <td>Bannerghatta Road, Bangalore</td>\n",
       "      <td>Ayurveda</td>\n",
       "      <td>BSc - Zoology, BAMS</td>\n",
       "      <td>0%</td>\n",
       "      <td>Bannerghatta Road</td>\n",
       "      <td>Bangalore</td>\n",
       "    </tr>\n",
       "    <tr>\n",
       "      <td>4</td>\n",
       "      <td>20</td>\n",
       "      <td>250.0</td>\n",
       "      <td>100% 4 Feedback Keelkattalai, Chennai</td>\n",
       "      <td>Keelkattalai, Chennai</td>\n",
       "      <td>Ayurveda</td>\n",
       "      <td>BAMS</td>\n",
       "      <td>100%</td>\n",
       "      <td>Keelkattalai</td>\n",
       "      <td>Chennai</td>\n",
       "    </tr>\n",
       "  </tbody>\n",
       "</table>\n",
       "</div>"
      ],
      "text/plain": [
       "   Experience   Fees                                 Miscellaneous_Info  \\\n",
       "0          24  100.0               100% 16 Feedback Kakkanad, Ernakulam   \n",
       "1          12  350.0              98% 76 Feedback Whitefield, Bangalore   \n",
       "2           9  300.0                                            missing   \n",
       "3          12  250.0  Bannerghatta Road, Bangalore ₹250 Available on...   \n",
       "4          20  250.0              100% 4 Feedback Keelkattalai, Chennai   \n",
       "\n",
       "                          Place         Profile  \\\n",
       "0           Kakkanad, Ernakulam       Homeopath   \n",
       "1         Whitefield, Bangalore        Ayurveda   \n",
       "2    Mathikere - BEL, Bangalore  ENT Specialist   \n",
       "3  Bannerghatta Road, Bangalore        Ayurveda   \n",
       "4         Keelkattalai, Chennai        Ayurveda   \n",
       "\n",
       "                    Qualification Rating           Locality        City  \n",
       "0           BHMS, MD - Homeopathy   100%           Kakkanad   Ernakulam  \n",
       "1    BAMS, MD - Ayurveda Medicine    98%         Whitefield   Bangalore  \n",
       "2  MBBS, MS - Otorhinolaryngology     0%    Mathikere - BEL   Bangalore  \n",
       "3             BSc - Zoology, BAMS     0%  Bannerghatta Road   Bangalore  \n",
       "4                            BAMS   100%       Keelkattalai     Chennai  "
      ]
     },
     "execution_count": 100,
     "metadata": {},
     "output_type": "execute_result"
    }
   ],
   "source": [
    "df_doc.head()"
   ]
  },
  {
   "cell_type": "markdown",
   "metadata": {},
   "source": [
    "We can now drop the Place column as we have extracted the details in Locality and City, Also we have 'Miscellaneous_Info' column in which similar data is present also lots of missing values, we can drop it as well"
   ]
  },
  {
   "cell_type": "code",
   "execution_count": 101,
   "metadata": {},
   "outputs": [],
   "source": [
    "df_doc.drop(columns=['Miscellaneous_Info','Place'],axis=1,inplace=True)"
   ]
  },
  {
   "cell_type": "code",
   "execution_count": 102,
   "metadata": {},
   "outputs": [
    {
     "data": {
      "text/html": [
       "<div>\n",
       "<style scoped>\n",
       "    .dataframe tbody tr th:only-of-type {\n",
       "        vertical-align: middle;\n",
       "    }\n",
       "\n",
       "    .dataframe tbody tr th {\n",
       "        vertical-align: top;\n",
       "    }\n",
       "\n",
       "    .dataframe thead th {\n",
       "        text-align: right;\n",
       "    }\n",
       "</style>\n",
       "<table border=\"1\" class=\"dataframe\">\n",
       "  <thead>\n",
       "    <tr style=\"text-align: right;\">\n",
       "      <th></th>\n",
       "      <th>Experience</th>\n",
       "      <th>Fees</th>\n",
       "      <th>Profile</th>\n",
       "      <th>Qualification</th>\n",
       "      <th>Rating</th>\n",
       "      <th>Locality</th>\n",
       "      <th>City</th>\n",
       "    </tr>\n",
       "  </thead>\n",
       "  <tbody>\n",
       "    <tr>\n",
       "      <td>0</td>\n",
       "      <td>24</td>\n",
       "      <td>100.0</td>\n",
       "      <td>Homeopath</td>\n",
       "      <td>BHMS, MD - Homeopathy</td>\n",
       "      <td>100%</td>\n",
       "      <td>Kakkanad</td>\n",
       "      <td>Ernakulam</td>\n",
       "    </tr>\n",
       "    <tr>\n",
       "      <td>1</td>\n",
       "      <td>12</td>\n",
       "      <td>350.0</td>\n",
       "      <td>Ayurveda</td>\n",
       "      <td>BAMS, MD - Ayurveda Medicine</td>\n",
       "      <td>98%</td>\n",
       "      <td>Whitefield</td>\n",
       "      <td>Bangalore</td>\n",
       "    </tr>\n",
       "    <tr>\n",
       "      <td>2</td>\n",
       "      <td>9</td>\n",
       "      <td>300.0</td>\n",
       "      <td>ENT Specialist</td>\n",
       "      <td>MBBS, MS - Otorhinolaryngology</td>\n",
       "      <td>0%</td>\n",
       "      <td>Mathikere - BEL</td>\n",
       "      <td>Bangalore</td>\n",
       "    </tr>\n",
       "    <tr>\n",
       "      <td>3</td>\n",
       "      <td>12</td>\n",
       "      <td>250.0</td>\n",
       "      <td>Ayurveda</td>\n",
       "      <td>BSc - Zoology, BAMS</td>\n",
       "      <td>0%</td>\n",
       "      <td>Bannerghatta Road</td>\n",
       "      <td>Bangalore</td>\n",
       "    </tr>\n",
       "    <tr>\n",
       "      <td>4</td>\n",
       "      <td>20</td>\n",
       "      <td>250.0</td>\n",
       "      <td>Ayurveda</td>\n",
       "      <td>BAMS</td>\n",
       "      <td>100%</td>\n",
       "      <td>Keelkattalai</td>\n",
       "      <td>Chennai</td>\n",
       "    </tr>\n",
       "  </tbody>\n",
       "</table>\n",
       "</div>"
      ],
      "text/plain": [
       "   Experience   Fees         Profile                   Qualification Rating  \\\n",
       "0          24  100.0       Homeopath           BHMS, MD - Homeopathy   100%   \n",
       "1          12  350.0        Ayurveda    BAMS, MD - Ayurveda Medicine    98%   \n",
       "2           9  300.0  ENT Specialist  MBBS, MS - Otorhinolaryngology     0%   \n",
       "3          12  250.0        Ayurveda             BSc - Zoology, BAMS     0%   \n",
       "4          20  250.0        Ayurveda                            BAMS   100%   \n",
       "\n",
       "            Locality        City  \n",
       "0           Kakkanad   Ernakulam  \n",
       "1         Whitefield   Bangalore  \n",
       "2    Mathikere - BEL   Bangalore  \n",
       "3  Bannerghatta Road   Bangalore  \n",
       "4       Keelkattalai     Chennai  "
      ]
     },
     "execution_count": 102,
     "metadata": {},
     "output_type": "execute_result"
    }
   ],
   "source": [
    "df_doc.head()"
   ]
  },
  {
   "cell_type": "markdown",
   "metadata": {},
   "source": [
    "Now we have to extract 'Qualification' column"
   ]
  },
  {
   "cell_type": "code",
   "execution_count": 103,
   "metadata": {},
   "outputs": [
    {
     "name": "stdout",
     "output_type": "stream",
     "text": [
      "Maximum qualifications of a doctor in the Train dataset is 17\n",
      "\n",
      "And the qualifications is --> 1287                          MBBS, MD - General Medicine\n",
      "1287    BDS, PG Diploma in Conservative, Endodontics a...\n",
      "Name: Qualification, dtype: object\n",
      "\n",
      "\n",
      "Minimum qualification of a doctor in the Train dataset is 1\n",
      "\n",
      "And the qualifications is --> 4                                               BAMS\n",
      "4    BDS, MDS - Conservative Dentistry & Endodontics\n",
      "Name: Qualification, dtype: object\n",
      "\n",
      "\n"
     ]
    }
   ],
   "source": [
    "# Checking the Maximum and Minimum number of qualifications\n",
    "qual = df_doc.Qualification.apply(lambda x: len(x.split(',')))\n",
    "print(\"Maximum qualifications of a doctor in the Train dataset is {}\\n\".format(qual.max()))\n",
    "print(\"And the qualifications is --> {}\\n\\n\".format(df_doc.Qualification[qual.idxmax()]))\n",
    "print(\"Minimum qualification of a doctor in the Train dataset is {}\\n\".format(qual.min()))\n",
    "print(\"And the qualifications is --> {}\\n\\n\".format(df_doc.Qualification[qual.idxmin()]))"
   ]
  },
  {
   "cell_type": "code",
   "execution_count": 104,
   "metadata": {},
   "outputs": [],
   "source": [
    "df_doc['qual_1'] = df_doc['Qualification'].str.split(',').str[0]\n",
    "df_doc['qual_2'] = df_doc['Qualification'].str.split(',').str[1]\n",
    "df_doc['qual_3'] = df_doc['Qualification'].str.split(',').str[2]\n",
    "df_doc['qual_4'] = df_doc['Qualification'].str.split(',').str[3]\n",
    "df_doc['qual_5'] = df_doc['Qualification'].str.split(',').str[4]\n",
    "df_doc['qual_6'] = df_doc['Qualification'].str.split(',').str[5]\n",
    "df_doc['qual_7'] = df_doc['Qualification'].str.split(',').str[6]\n",
    "df_doc['qual_8'] = df_doc['Qualification'].str.split(',').str[7]\n",
    "df_doc['qual_9'] = df_doc['Qualification'].str.split(',').str[8]\n",
    "df_doc['qual_10'] = df_doc['Qualification'].str.split(',').str[9]\n",
    "df_doc['qual_11'] = df_doc['Qualification'].str.split(',').str[10]\n",
    "df_doc['qual_12'] = df_doc['Qualification'].str.split(',').str[11]\n",
    "df_doc['qual_13'] = df_doc['Qualification'].str.split(',').str[12]\n",
    "df_doc['qual_14'] = df_doc['Qualification'].str.split(',').str[13]\n",
    "df_doc['qual_15'] = df_doc['Qualification'].str.split(',').str[14]\n",
    "df_doc['qual_16'] = df_doc['Qualification'].str.split(',').str[15]\n",
    "df_doc['qual_17'] = df_doc['Qualification'].str.split(',').str[16]"
   ]
  },
  {
   "cell_type": "code",
   "execution_count": 105,
   "metadata": {},
   "outputs": [
    {
     "data": {
      "text/html": [
       "<div>\n",
       "<style scoped>\n",
       "    .dataframe tbody tr th:only-of-type {\n",
       "        vertical-align: middle;\n",
       "    }\n",
       "\n",
       "    .dataframe tbody tr th {\n",
       "        vertical-align: top;\n",
       "    }\n",
       "\n",
       "    .dataframe thead th {\n",
       "        text-align: right;\n",
       "    }\n",
       "</style>\n",
       "<table border=\"1\" class=\"dataframe\">\n",
       "  <thead>\n",
       "    <tr style=\"text-align: right;\">\n",
       "      <th></th>\n",
       "      <th>Experience</th>\n",
       "      <th>Fees</th>\n",
       "      <th>Profile</th>\n",
       "      <th>Qualification</th>\n",
       "      <th>Rating</th>\n",
       "      <th>Locality</th>\n",
       "      <th>City</th>\n",
       "      <th>qual_1</th>\n",
       "      <th>qual_2</th>\n",
       "      <th>qual_3</th>\n",
       "      <th>...</th>\n",
       "      <th>qual_8</th>\n",
       "      <th>qual_9</th>\n",
       "      <th>qual_10</th>\n",
       "      <th>qual_11</th>\n",
       "      <th>qual_12</th>\n",
       "      <th>qual_13</th>\n",
       "      <th>qual_14</th>\n",
       "      <th>qual_15</th>\n",
       "      <th>qual_16</th>\n",
       "      <th>qual_17</th>\n",
       "    </tr>\n",
       "  </thead>\n",
       "  <tbody>\n",
       "    <tr>\n",
       "      <td>0</td>\n",
       "      <td>24</td>\n",
       "      <td>100.0</td>\n",
       "      <td>Homeopath</td>\n",
       "      <td>BHMS, MD - Homeopathy</td>\n",
       "      <td>100%</td>\n",
       "      <td>Kakkanad</td>\n",
       "      <td>Ernakulam</td>\n",
       "      <td>BHMS</td>\n",
       "      <td>MD - Homeopathy</td>\n",
       "      <td>NaN</td>\n",
       "      <td>...</td>\n",
       "      <td>NaN</td>\n",
       "      <td>NaN</td>\n",
       "      <td>NaN</td>\n",
       "      <td>NaN</td>\n",
       "      <td>NaN</td>\n",
       "      <td>NaN</td>\n",
       "      <td>NaN</td>\n",
       "      <td>NaN</td>\n",
       "      <td>NaN</td>\n",
       "      <td>NaN</td>\n",
       "    </tr>\n",
       "    <tr>\n",
       "      <td>1</td>\n",
       "      <td>12</td>\n",
       "      <td>350.0</td>\n",
       "      <td>Ayurveda</td>\n",
       "      <td>BAMS, MD - Ayurveda Medicine</td>\n",
       "      <td>98%</td>\n",
       "      <td>Whitefield</td>\n",
       "      <td>Bangalore</td>\n",
       "      <td>BAMS</td>\n",
       "      <td>MD - Ayurveda Medicine</td>\n",
       "      <td>NaN</td>\n",
       "      <td>...</td>\n",
       "      <td>NaN</td>\n",
       "      <td>NaN</td>\n",
       "      <td>NaN</td>\n",
       "      <td>NaN</td>\n",
       "      <td>NaN</td>\n",
       "      <td>NaN</td>\n",
       "      <td>NaN</td>\n",
       "      <td>NaN</td>\n",
       "      <td>NaN</td>\n",
       "      <td>NaN</td>\n",
       "    </tr>\n",
       "    <tr>\n",
       "      <td>2</td>\n",
       "      <td>9</td>\n",
       "      <td>300.0</td>\n",
       "      <td>ENT Specialist</td>\n",
       "      <td>MBBS, MS - Otorhinolaryngology</td>\n",
       "      <td>0%</td>\n",
       "      <td>Mathikere - BEL</td>\n",
       "      <td>Bangalore</td>\n",
       "      <td>MBBS</td>\n",
       "      <td>MS - Otorhinolaryngology</td>\n",
       "      <td>NaN</td>\n",
       "      <td>...</td>\n",
       "      <td>NaN</td>\n",
       "      <td>NaN</td>\n",
       "      <td>NaN</td>\n",
       "      <td>NaN</td>\n",
       "      <td>NaN</td>\n",
       "      <td>NaN</td>\n",
       "      <td>NaN</td>\n",
       "      <td>NaN</td>\n",
       "      <td>NaN</td>\n",
       "      <td>NaN</td>\n",
       "    </tr>\n",
       "    <tr>\n",
       "      <td>3</td>\n",
       "      <td>12</td>\n",
       "      <td>250.0</td>\n",
       "      <td>Ayurveda</td>\n",
       "      <td>BSc - Zoology, BAMS</td>\n",
       "      <td>0%</td>\n",
       "      <td>Bannerghatta Road</td>\n",
       "      <td>Bangalore</td>\n",
       "      <td>BSc - Zoology</td>\n",
       "      <td>BAMS</td>\n",
       "      <td>NaN</td>\n",
       "      <td>...</td>\n",
       "      <td>NaN</td>\n",
       "      <td>NaN</td>\n",
       "      <td>NaN</td>\n",
       "      <td>NaN</td>\n",
       "      <td>NaN</td>\n",
       "      <td>NaN</td>\n",
       "      <td>NaN</td>\n",
       "      <td>NaN</td>\n",
       "      <td>NaN</td>\n",
       "      <td>NaN</td>\n",
       "    </tr>\n",
       "    <tr>\n",
       "      <td>4</td>\n",
       "      <td>20</td>\n",
       "      <td>250.0</td>\n",
       "      <td>Ayurveda</td>\n",
       "      <td>BAMS</td>\n",
       "      <td>100%</td>\n",
       "      <td>Keelkattalai</td>\n",
       "      <td>Chennai</td>\n",
       "      <td>BAMS</td>\n",
       "      <td>NaN</td>\n",
       "      <td>NaN</td>\n",
       "      <td>...</td>\n",
       "      <td>NaN</td>\n",
       "      <td>NaN</td>\n",
       "      <td>NaN</td>\n",
       "      <td>NaN</td>\n",
       "      <td>NaN</td>\n",
       "      <td>NaN</td>\n",
       "      <td>NaN</td>\n",
       "      <td>NaN</td>\n",
       "      <td>NaN</td>\n",
       "      <td>NaN</td>\n",
       "    </tr>\n",
       "  </tbody>\n",
       "</table>\n",
       "<p>5 rows × 24 columns</p>\n",
       "</div>"
      ],
      "text/plain": [
       "   Experience   Fees         Profile                   Qualification Rating  \\\n",
       "0          24  100.0       Homeopath           BHMS, MD - Homeopathy   100%   \n",
       "1          12  350.0        Ayurveda    BAMS, MD - Ayurveda Medicine    98%   \n",
       "2           9  300.0  ENT Specialist  MBBS, MS - Otorhinolaryngology     0%   \n",
       "3          12  250.0        Ayurveda             BSc - Zoology, BAMS     0%   \n",
       "4          20  250.0        Ayurveda                            BAMS   100%   \n",
       "\n",
       "            Locality        City         qual_1                     qual_2  \\\n",
       "0           Kakkanad   Ernakulam           BHMS            MD - Homeopathy   \n",
       "1         Whitefield   Bangalore           BAMS     MD - Ayurveda Medicine   \n",
       "2    Mathikere - BEL   Bangalore           MBBS   MS - Otorhinolaryngology   \n",
       "3  Bannerghatta Road   Bangalore  BSc - Zoology                       BAMS   \n",
       "4       Keelkattalai     Chennai           BAMS                        NaN   \n",
       "\n",
       "  qual_3  ... qual_8 qual_9 qual_10 qual_11 qual_12 qual_13 qual_14 qual_15  \\\n",
       "0    NaN  ...    NaN    NaN     NaN     NaN     NaN     NaN     NaN     NaN   \n",
       "1    NaN  ...    NaN    NaN     NaN     NaN     NaN     NaN     NaN     NaN   \n",
       "2    NaN  ...    NaN    NaN     NaN     NaN     NaN     NaN     NaN     NaN   \n",
       "3    NaN  ...    NaN    NaN     NaN     NaN     NaN     NaN     NaN     NaN   \n",
       "4    NaN  ...    NaN    NaN     NaN     NaN     NaN     NaN     NaN     NaN   \n",
       "\n",
       "  qual_16 qual_17  \n",
       "0     NaN     NaN  \n",
       "1     NaN     NaN  \n",
       "2     NaN     NaN  \n",
       "3     NaN     NaN  \n",
       "4     NaN     NaN  \n",
       "\n",
       "[5 rows x 24 columns]"
      ]
     },
     "execution_count": 105,
     "metadata": {},
     "output_type": "execute_result"
    }
   ],
   "source": [
    "df_doc.head()"
   ]
  },
  {
   "cell_type": "code",
   "execution_count": 106,
   "metadata": {},
   "outputs": [
    {
     "data": {
      "text/plain": [
       "Experience          0\n",
       "Fees             1981\n",
       "Profile             0\n",
       "Qualification       0\n",
       "Rating              0\n",
       "Locality            0\n",
       "City                1\n",
       "qual_1              0\n",
       "qual_2           2541\n",
       "qual_3           6057\n",
       "qual_4           7418\n",
       "qual_5           7762\n",
       "qual_6           7874\n",
       "qual_7           7902\n",
       "qual_8           7909\n",
       "qual_9           7911\n",
       "qual_10          7915\n",
       "qual_11          7916\n",
       "qual_12          7916\n",
       "qual_13          7916\n",
       "qual_14          7916\n",
       "qual_15          7916\n",
       "qual_16          7916\n",
       "qual_17          7916\n",
       "dtype: int64"
      ]
     },
     "execution_count": 106,
     "metadata": {},
     "output_type": "execute_result"
    }
   ],
   "source": [
    "df_doc.isnull().sum()"
   ]
  },
  {
   "cell_type": "code",
   "execution_count": 108,
   "metadata": {},
   "outputs": [
    {
     "data": {
      "text/plain": [
       "(7917, 24)"
      ]
     },
     "execution_count": 108,
     "metadata": {},
     "output_type": "execute_result"
    }
   ],
   "source": [
    "df_doc.shape"
   ]
  },
  {
   "cell_type": "markdown",
   "metadata": {},
   "source": [
    "We can see that most of column from qual_10 to qual 17 are null, we can drop these columns, and can fill others null by 'None'"
   ]
  },
  {
   "cell_type": "code",
   "execution_count": 109,
   "metadata": {},
   "outputs": [],
   "source": [
    "#Dropping qual_q10 to qual_17\n",
    "df_doc.drop(columns=[\"qual_10\",\"qual_11\",\"qual_12\",\"qual_13\",\"qual_14\",\"qual_15\",\"qual_16\",\"qual_17\"],inplace=True)"
   ]
  },
  {
   "cell_type": "code",
   "execution_count": 110,
   "metadata": {},
   "outputs": [],
   "source": [
    "df_doc['qual_2'].fillna(\"None\",inplace=True)\n",
    "df_doc['qual_3'].fillna(\"None\",inplace=True)\n",
    "df_doc['qual_4'].fillna(\"None\",inplace=True)\n",
    "df_doc['qual_5'].fillna(\"None\",inplace=True)\n",
    "df_doc['qual_6'].fillna(\"None\",inplace=True)\n",
    "df_doc['qual_7'].fillna(\"None\",inplace=True)\n",
    "df_doc['qual_8'].fillna(\"None\",inplace=True)\n",
    "df_doc['qual_9'].fillna(\"None\",inplace=True)"
   ]
  },
  {
   "cell_type": "code",
   "execution_count": 113,
   "metadata": {},
   "outputs": [],
   "source": [
    "df_doc.drop(columns=['Qualification'],inplace=True)"
   ]
  },
  {
   "cell_type": "code",
   "execution_count": 115,
   "metadata": {},
   "outputs": [
    {
     "data": {
      "text/html": [
       "<div>\n",
       "<style scoped>\n",
       "    .dataframe tbody tr th:only-of-type {\n",
       "        vertical-align: middle;\n",
       "    }\n",
       "\n",
       "    .dataframe tbody tr th {\n",
       "        vertical-align: top;\n",
       "    }\n",
       "\n",
       "    .dataframe thead th {\n",
       "        text-align: right;\n",
       "    }\n",
       "</style>\n",
       "<table border=\"1\" class=\"dataframe\">\n",
       "  <thead>\n",
       "    <tr style=\"text-align: right;\">\n",
       "      <th></th>\n",
       "      <th>Experience</th>\n",
       "      <th>Fees</th>\n",
       "      <th>Profile</th>\n",
       "      <th>Rating</th>\n",
       "      <th>Locality</th>\n",
       "      <th>City</th>\n",
       "      <th>qual_1</th>\n",
       "      <th>qual_2</th>\n",
       "      <th>qual_3</th>\n",
       "      <th>qual_4</th>\n",
       "      <th>qual_5</th>\n",
       "      <th>qual_6</th>\n",
       "      <th>qual_7</th>\n",
       "      <th>qual_8</th>\n",
       "      <th>qual_9</th>\n",
       "    </tr>\n",
       "  </thead>\n",
       "  <tbody>\n",
       "    <tr>\n",
       "      <td>0</td>\n",
       "      <td>24</td>\n",
       "      <td>100.0</td>\n",
       "      <td>Homeopath</td>\n",
       "      <td>100%</td>\n",
       "      <td>Kakkanad</td>\n",
       "      <td>Ernakulam</td>\n",
       "      <td>BHMS</td>\n",
       "      <td>MD - Homeopathy</td>\n",
       "      <td>None</td>\n",
       "      <td>None</td>\n",
       "      <td>None</td>\n",
       "      <td>None</td>\n",
       "      <td>None</td>\n",
       "      <td>None</td>\n",
       "      <td>None</td>\n",
       "    </tr>\n",
       "    <tr>\n",
       "      <td>1</td>\n",
       "      <td>12</td>\n",
       "      <td>350.0</td>\n",
       "      <td>Ayurveda</td>\n",
       "      <td>98%</td>\n",
       "      <td>Whitefield</td>\n",
       "      <td>Bangalore</td>\n",
       "      <td>BAMS</td>\n",
       "      <td>MD - Ayurveda Medicine</td>\n",
       "      <td>None</td>\n",
       "      <td>None</td>\n",
       "      <td>None</td>\n",
       "      <td>None</td>\n",
       "      <td>None</td>\n",
       "      <td>None</td>\n",
       "      <td>None</td>\n",
       "    </tr>\n",
       "    <tr>\n",
       "      <td>2</td>\n",
       "      <td>9</td>\n",
       "      <td>300.0</td>\n",
       "      <td>ENT Specialist</td>\n",
       "      <td>0%</td>\n",
       "      <td>Mathikere - BEL</td>\n",
       "      <td>Bangalore</td>\n",
       "      <td>MBBS</td>\n",
       "      <td>MS - Otorhinolaryngology</td>\n",
       "      <td>None</td>\n",
       "      <td>None</td>\n",
       "      <td>None</td>\n",
       "      <td>None</td>\n",
       "      <td>None</td>\n",
       "      <td>None</td>\n",
       "      <td>None</td>\n",
       "    </tr>\n",
       "    <tr>\n",
       "      <td>3</td>\n",
       "      <td>12</td>\n",
       "      <td>250.0</td>\n",
       "      <td>Ayurveda</td>\n",
       "      <td>0%</td>\n",
       "      <td>Bannerghatta Road</td>\n",
       "      <td>Bangalore</td>\n",
       "      <td>BSc - Zoology</td>\n",
       "      <td>BAMS</td>\n",
       "      <td>None</td>\n",
       "      <td>None</td>\n",
       "      <td>None</td>\n",
       "      <td>None</td>\n",
       "      <td>None</td>\n",
       "      <td>None</td>\n",
       "      <td>None</td>\n",
       "    </tr>\n",
       "    <tr>\n",
       "      <td>4</td>\n",
       "      <td>20</td>\n",
       "      <td>250.0</td>\n",
       "      <td>Ayurveda</td>\n",
       "      <td>100%</td>\n",
       "      <td>Keelkattalai</td>\n",
       "      <td>Chennai</td>\n",
       "      <td>BAMS</td>\n",
       "      <td>None</td>\n",
       "      <td>None</td>\n",
       "      <td>None</td>\n",
       "      <td>None</td>\n",
       "      <td>None</td>\n",
       "      <td>None</td>\n",
       "      <td>None</td>\n",
       "      <td>None</td>\n",
       "    </tr>\n",
       "    <tr>\n",
       "      <td>5</td>\n",
       "      <td>8</td>\n",
       "      <td>100.0</td>\n",
       "      <td>Ayurveda</td>\n",
       "      <td>0%</td>\n",
       "      <td>Porur</td>\n",
       "      <td>Chennai</td>\n",
       "      <td>BAMS</td>\n",
       "      <td>None</td>\n",
       "      <td>None</td>\n",
       "      <td>None</td>\n",
       "      <td>None</td>\n",
       "      <td>None</td>\n",
       "      <td>None</td>\n",
       "      <td>None</td>\n",
       "      <td>None</td>\n",
       "    </tr>\n",
       "    <tr>\n",
       "      <td>6</td>\n",
       "      <td>42</td>\n",
       "      <td>200.0</td>\n",
       "      <td>Homeopath</td>\n",
       "      <td>0%</td>\n",
       "      <td>Karol Bagh</td>\n",
       "      <td>Delhi</td>\n",
       "      <td>BHMS</td>\n",
       "      <td>None</td>\n",
       "      <td>None</td>\n",
       "      <td>None</td>\n",
       "      <td>None</td>\n",
       "      <td>None</td>\n",
       "      <td>None</td>\n",
       "      <td>None</td>\n",
       "      <td>None</td>\n",
       "    </tr>\n",
       "    <tr>\n",
       "      <td>7</td>\n",
       "      <td>10</td>\n",
       "      <td>200.0</td>\n",
       "      <td>Dentist</td>\n",
       "      <td>99%</td>\n",
       "      <td>Arekere</td>\n",
       "      <td>Bangalore</td>\n",
       "      <td>BDS</td>\n",
       "      <td>None</td>\n",
       "      <td>None</td>\n",
       "      <td>None</td>\n",
       "      <td>None</td>\n",
       "      <td>None</td>\n",
       "      <td>None</td>\n",
       "      <td>None</td>\n",
       "      <td>None</td>\n",
       "    </tr>\n",
       "    <tr>\n",
       "      <td>8</td>\n",
       "      <td>14</td>\n",
       "      <td>100.0</td>\n",
       "      <td>General Medicine</td>\n",
       "      <td>0%</td>\n",
       "      <td>Old City</td>\n",
       "      <td>Hyderabad</td>\n",
       "      <td>MBBS</td>\n",
       "      <td>MD - General Medicine</td>\n",
       "      <td>None</td>\n",
       "      <td>None</td>\n",
       "      <td>None</td>\n",
       "      <td>None</td>\n",
       "      <td>None</td>\n",
       "      <td>None</td>\n",
       "      <td>None</td>\n",
       "    </tr>\n",
       "    <tr>\n",
       "      <td>9</td>\n",
       "      <td>23</td>\n",
       "      <td>100.0</td>\n",
       "      <td>Dentist</td>\n",
       "      <td>0%</td>\n",
       "      <td>Athani</td>\n",
       "      <td>Ernakulam</td>\n",
       "      <td>BSc</td>\n",
       "      <td>BDS</td>\n",
       "      <td>None</td>\n",
       "      <td>None</td>\n",
       "      <td>None</td>\n",
       "      <td>None</td>\n",
       "      <td>None</td>\n",
       "      <td>None</td>\n",
       "      <td>None</td>\n",
       "    </tr>\n",
       "    <tr>\n",
       "      <td>10</td>\n",
       "      <td>5</td>\n",
       "      <td>700.0</td>\n",
       "      <td>ENT Specialist</td>\n",
       "      <td>0%</td>\n",
       "      <td>Thousand Lights</td>\n",
       "      <td>Chennai</td>\n",
       "      <td>MBBS</td>\n",
       "      <td>MS</td>\n",
       "      <td>DNB - ENT</td>\n",
       "      <td>None</td>\n",
       "      <td>None</td>\n",
       "      <td>None</td>\n",
       "      <td>None</td>\n",
       "      <td>None</td>\n",
       "      <td>None</td>\n",
       "    </tr>\n",
       "    <tr>\n",
       "      <td>11</td>\n",
       "      <td>7</td>\n",
       "      <td>100.0</td>\n",
       "      <td>Ayurveda</td>\n",
       "      <td>0%</td>\n",
       "      <td>Somajiguda</td>\n",
       "      <td>Hyderabad</td>\n",
       "      <td>BAMS</td>\n",
       "      <td>None</td>\n",
       "      <td>None</td>\n",
       "      <td>None</td>\n",
       "      <td>None</td>\n",
       "      <td>None</td>\n",
       "      <td>None</td>\n",
       "      <td>None</td>\n",
       "      <td>None</td>\n",
       "    </tr>\n",
       "    <tr>\n",
       "      <td>12</td>\n",
       "      <td>9</td>\n",
       "      <td>200.0</td>\n",
       "      <td>Dentist</td>\n",
       "      <td>98%</td>\n",
       "      <td>Coimbatore Racecourse</td>\n",
       "      <td>Coimbatore</td>\n",
       "      <td>BDS</td>\n",
       "      <td>MDS</td>\n",
       "      <td>None</td>\n",
       "      <td>None</td>\n",
       "      <td>None</td>\n",
       "      <td>None</td>\n",
       "      <td>None</td>\n",
       "      <td>None</td>\n",
       "      <td>None</td>\n",
       "    </tr>\n",
       "    <tr>\n",
       "      <td>13</td>\n",
       "      <td>21</td>\n",
       "      <td>350.0</td>\n",
       "      <td>Dentist</td>\n",
       "      <td>0%</td>\n",
       "      <td>Jubilee Hills</td>\n",
       "      <td>Hyderabad</td>\n",
       "      <td>BDS</td>\n",
       "      <td>MDS - Oral &amp; Maxillofacial Surgery</td>\n",
       "      <td>None</td>\n",
       "      <td>None</td>\n",
       "      <td>None</td>\n",
       "      <td>None</td>\n",
       "      <td>None</td>\n",
       "      <td>None</td>\n",
       "      <td>None</td>\n",
       "    </tr>\n",
       "    <tr>\n",
       "      <td>14</td>\n",
       "      <td>12</td>\n",
       "      <td>500.0</td>\n",
       "      <td>ENT Specialist</td>\n",
       "      <td>0%</td>\n",
       "      <td>Kondli</td>\n",
       "      <td>Delhi</td>\n",
       "      <td>MBBS</td>\n",
       "      <td>Diploma in Otorhinolaryngology (DLO)</td>\n",
       "      <td>DNB - ENT</td>\n",
       "      <td>None</td>\n",
       "      <td>None</td>\n",
       "      <td>None</td>\n",
       "      <td>None</td>\n",
       "      <td>None</td>\n",
       "      <td>None</td>\n",
       "    </tr>\n",
       "    <tr>\n",
       "      <td>15</td>\n",
       "      <td>10</td>\n",
       "      <td>200.0</td>\n",
       "      <td>General Medicine</td>\n",
       "      <td>0%</td>\n",
       "      <td>Saroor Nagar</td>\n",
       "      <td>Hyderabad</td>\n",
       "      <td>MBBS</td>\n",
       "      <td>MD - General Medicine</td>\n",
       "      <td>None</td>\n",
       "      <td>None</td>\n",
       "      <td>None</td>\n",
       "      <td>None</td>\n",
       "      <td>None</td>\n",
       "      <td>None</td>\n",
       "      <td>None</td>\n",
       "    </tr>\n",
       "    <tr>\n",
       "      <td>16</td>\n",
       "      <td>24</td>\n",
       "      <td>100.0</td>\n",
       "      <td>ENT Specialist</td>\n",
       "      <td>0%</td>\n",
       "      <td>Tambaram West</td>\n",
       "      <td>Chennai</td>\n",
       "      <td>MBBS</td>\n",
       "      <td>Diploma in Otorhinolaryngology (DLO)</td>\n",
       "      <td>None</td>\n",
       "      <td>None</td>\n",
       "      <td>None</td>\n",
       "      <td>None</td>\n",
       "      <td>None</td>\n",
       "      <td>None</td>\n",
       "      <td>None</td>\n",
       "    </tr>\n",
       "    <tr>\n",
       "      <td>17</td>\n",
       "      <td>5</td>\n",
       "      <td>300.0</td>\n",
       "      <td>Homeopath</td>\n",
       "      <td>0%</td>\n",
       "      <td>Purasawakkam</td>\n",
       "      <td>Chennai</td>\n",
       "      <td>MBBS</td>\n",
       "      <td>MF- Homeopathy</td>\n",
       "      <td>None</td>\n",
       "      <td>None</td>\n",
       "      <td>None</td>\n",
       "      <td>None</td>\n",
       "      <td>None</td>\n",
       "      <td>None</td>\n",
       "      <td>None</td>\n",
       "    </tr>\n",
       "    <tr>\n",
       "      <td>18</td>\n",
       "      <td>19</td>\n",
       "      <td>400.0</td>\n",
       "      <td>ENT Specialist</td>\n",
       "      <td>79%</td>\n",
       "      <td>KPHB</td>\n",
       "      <td>Hyderabad</td>\n",
       "      <td>MBBS</td>\n",
       "      <td>MS - ENT</td>\n",
       "      <td>None</td>\n",
       "      <td>None</td>\n",
       "      <td>None</td>\n",
       "      <td>None</td>\n",
       "      <td>None</td>\n",
       "      <td>None</td>\n",
       "      <td>None</td>\n",
       "    </tr>\n",
       "    <tr>\n",
       "      <td>19</td>\n",
       "      <td>19</td>\n",
       "      <td>150.0</td>\n",
       "      <td>General Medicine</td>\n",
       "      <td>100%</td>\n",
       "      <td>HSR Layout</td>\n",
       "      <td>Bangalore</td>\n",
       "      <td>MBBS</td>\n",
       "      <td>None</td>\n",
       "      <td>None</td>\n",
       "      <td>None</td>\n",
       "      <td>None</td>\n",
       "      <td>None</td>\n",
       "      <td>None</td>\n",
       "      <td>None</td>\n",
       "      <td>None</td>\n",
       "    </tr>\n",
       "  </tbody>\n",
       "</table>\n",
       "</div>"
      ],
      "text/plain": [
       "    Experience   Fees           Profile Rating               Locality  \\\n",
       "0           24  100.0         Homeopath   100%               Kakkanad   \n",
       "1           12  350.0          Ayurveda    98%             Whitefield   \n",
       "2            9  300.0    ENT Specialist     0%        Mathikere - BEL   \n",
       "3           12  250.0          Ayurveda     0%      Bannerghatta Road   \n",
       "4           20  250.0          Ayurveda   100%           Keelkattalai   \n",
       "5            8  100.0          Ayurveda     0%                  Porur   \n",
       "6           42  200.0         Homeopath     0%             Karol Bagh   \n",
       "7           10  200.0           Dentist    99%                Arekere   \n",
       "8           14  100.0  General Medicine     0%               Old City   \n",
       "9           23  100.0           Dentist     0%                 Athani   \n",
       "10           5  700.0    ENT Specialist     0%        Thousand Lights   \n",
       "11           7  100.0          Ayurveda     0%             Somajiguda   \n",
       "12           9  200.0           Dentist    98%  Coimbatore Racecourse   \n",
       "13          21  350.0           Dentist     0%          Jubilee Hills   \n",
       "14          12  500.0    ENT Specialist     0%                 Kondli   \n",
       "15          10  200.0  General Medicine     0%           Saroor Nagar   \n",
       "16          24  100.0    ENT Specialist     0%          Tambaram West   \n",
       "17           5  300.0         Homeopath     0%           Purasawakkam   \n",
       "18          19  400.0    ENT Specialist    79%                   KPHB   \n",
       "19          19  150.0  General Medicine   100%             HSR Layout   \n",
       "\n",
       "           City         qual_1                                 qual_2  \\\n",
       "0     Ernakulam           BHMS                        MD - Homeopathy   \n",
       "1     Bangalore           BAMS                 MD - Ayurveda Medicine   \n",
       "2     Bangalore           MBBS               MS - Otorhinolaryngology   \n",
       "3     Bangalore  BSc - Zoology                                   BAMS   \n",
       "4       Chennai           BAMS                                   None   \n",
       "5       Chennai           BAMS                                   None   \n",
       "6         Delhi           BHMS                                   None   \n",
       "7     Bangalore            BDS                                   None   \n",
       "8     Hyderabad           MBBS                  MD - General Medicine   \n",
       "9     Ernakulam            BSc                                    BDS   \n",
       "10      Chennai           MBBS                                     MS   \n",
       "11    Hyderabad           BAMS                                   None   \n",
       "12   Coimbatore            BDS                                    MDS   \n",
       "13    Hyderabad            BDS     MDS - Oral & Maxillofacial Surgery   \n",
       "14        Delhi           MBBS   Diploma in Otorhinolaryngology (DLO)   \n",
       "15    Hyderabad           MBBS                  MD - General Medicine   \n",
       "16      Chennai           MBBS   Diploma in Otorhinolaryngology (DLO)   \n",
       "17      Chennai           MBBS                         MF- Homeopathy   \n",
       "18    Hyderabad           MBBS                               MS - ENT   \n",
       "19    Bangalore           MBBS                                   None   \n",
       "\n",
       "        qual_3 qual_4 qual_5 qual_6 qual_7 qual_8 qual_9  \n",
       "0         None   None   None   None   None   None   None  \n",
       "1         None   None   None   None   None   None   None  \n",
       "2         None   None   None   None   None   None   None  \n",
       "3         None   None   None   None   None   None   None  \n",
       "4         None   None   None   None   None   None   None  \n",
       "5         None   None   None   None   None   None   None  \n",
       "6         None   None   None   None   None   None   None  \n",
       "7         None   None   None   None   None   None   None  \n",
       "8         None   None   None   None   None   None   None  \n",
       "9         None   None   None   None   None   None   None  \n",
       "10   DNB - ENT   None   None   None   None   None   None  \n",
       "11        None   None   None   None   None   None   None  \n",
       "12        None   None   None   None   None   None   None  \n",
       "13        None   None   None   None   None   None   None  \n",
       "14   DNB - ENT   None   None   None   None   None   None  \n",
       "15        None   None   None   None   None   None   None  \n",
       "16        None   None   None   None   None   None   None  \n",
       "17        None   None   None   None   None   None   None  \n",
       "18        None   None   None   None   None   None   None  \n",
       "19        None   None   None   None   None   None   None  "
      ]
     },
     "execution_count": 115,
     "metadata": {},
     "output_type": "execute_result"
    }
   ],
   "source": [
    "df_doc.head(20)"
   ]
  },
  {
   "cell_type": "code",
   "execution_count": 116,
   "metadata": {},
   "outputs": [
    {
     "data": {
      "text/plain": [
       "Experience       0\n",
       "Fees          1981\n",
       "Profile          0\n",
       "Rating           0\n",
       "Locality         0\n",
       "City             0\n",
       "qual_1           0\n",
       "qual_2           0\n",
       "qual_3           0\n",
       "qual_4           0\n",
       "qual_5           0\n",
       "qual_6           0\n",
       "qual_7           0\n",
       "qual_8           0\n",
       "qual_9           0\n",
       "dtype: int64"
      ]
     },
     "execution_count": 116,
     "metadata": {},
     "output_type": "execute_result"
    }
   ],
   "source": [
    "df_doc.isnull().sum()"
   ]
  },
  {
   "cell_type": "markdown",
   "metadata": {},
   "source": [
    "We can see that we have now the needed data to perfom EDA and to train our model for prediction"
   ]
  },
  {
   "cell_type": "markdown",
   "metadata": {},
   "source": [
    "--Performing graphical EDA for the above data to get insight of data--"
   ]
  },
  {
   "cell_type": "code",
   "execution_count": 117,
   "metadata": {},
   "outputs": [],
   "source": [
    "#Importing some more necessary libraries\n",
    "import seaborn as sns\n",
    "import matplotlib.pyplot as plt"
   ]
  },
  {
   "cell_type": "code",
   "execution_count": 118,
   "metadata": {},
   "outputs": [
    {
     "data": {
      "image/png": "[encoded data removed]",
      "text/plain": [
       "<Figure size 720x360 with 1 Axes>"
      ]
     },
     "metadata": {
      "needs_background": "light"
     },
     "output_type": "display_data"
    }
   ],
   "source": [
    "plt.figure(figsize=(10,5))\n",
    "sns.barplot(x=\"Profile\",y=\"Fees\",data=df_doc)\n",
    "plt.show()"
   ]
  },
  {
   "cell_type": "markdown",
   "metadata": {},
   "source": [
    "We can see that ENT and Dermatologists are charging more fees"
   ]
  },
  {
   "cell_type": "code",
   "execution_count": 128,
   "metadata": {},
   "outputs": [
    {
     "data": {
      "text/html": [
       "<div>\n",
       "<style scoped>\n",
       "    .dataframe tbody tr th:only-of-type {\n",
       "        vertical-align: middle;\n",
       "    }\n",
       "\n",
       "    .dataframe tbody tr th {\n",
       "        vertical-align: top;\n",
       "    }\n",
       "\n",
       "    .dataframe thead tr th {\n",
       "        text-align: left;\n",
       "    }\n",
       "\n",
       "    .dataframe thead tr:last-of-type th {\n",
       "        text-align: right;\n",
       "    }\n",
       "</style>\n",
       "<table border=\"1\" class=\"dataframe\">\n",
       "  <thead>\n",
       "    <tr>\n",
       "      <th></th>\n",
       "      <th>mean</th>\n",
       "      <th>median</th>\n",
       "      <th>min</th>\n",
       "      <th>max</th>\n",
       "    </tr>\n",
       "    <tr>\n",
       "      <th></th>\n",
       "      <th>Fees</th>\n",
       "      <th>Fees</th>\n",
       "      <th>Fees</th>\n",
       "      <th>Fees</th>\n",
       "    </tr>\n",
       "    <tr>\n",
       "      <th>City</th>\n",
       "      <th></th>\n",
       "      <th></th>\n",
       "      <th></th>\n",
       "      <th></th>\n",
       "    </tr>\n",
       "  </thead>\n",
       "  <tbody>\n",
       "    <tr>\n",
       "      <td>Bangalore</td>\n",
       "      <td>328.842607</td>\n",
       "      <td>300.0</td>\n",
       "      <td>30.0</td>\n",
       "      <td>900.0</td>\n",
       "    </tr>\n",
       "    <tr>\n",
       "      <td>Chennai</td>\n",
       "      <td>283.602339</td>\n",
       "      <td>200.0</td>\n",
       "      <td>50.0</td>\n",
       "      <td>950.0</td>\n",
       "    </tr>\n",
       "    <tr>\n",
       "      <td>Coimbatore</td>\n",
       "      <td>154.298246</td>\n",
       "      <td>150.0</td>\n",
       "      <td>50.0</td>\n",
       "      <td>700.0</td>\n",
       "    </tr>\n",
       "    <tr>\n",
       "      <td>Delhi</td>\n",
       "      <td>363.006757</td>\n",
       "      <td>300.0</td>\n",
       "      <td>50.0</td>\n",
       "      <td>900.0</td>\n",
       "    </tr>\n",
       "    <tr>\n",
       "      <td>Ernakulam</td>\n",
       "      <td>188.431373</td>\n",
       "      <td>200.0</td>\n",
       "      <td>10.0</td>\n",
       "      <td>600.0</td>\n",
       "    </tr>\n",
       "    <tr>\n",
       "      <td>Hyderabad</td>\n",
       "      <td>307.507886</td>\n",
       "      <td>300.0</td>\n",
       "      <td>20.0</td>\n",
       "      <td>800.0</td>\n",
       "    </tr>\n",
       "    <tr>\n",
       "      <td>Mumbai</td>\n",
       "      <td>308.292863</td>\n",
       "      <td>200.0</td>\n",
       "      <td>10.0</td>\n",
       "      <td>920.0</td>\n",
       "    </tr>\n",
       "    <tr>\n",
       "      <td>Sector 5</td>\n",
       "      <td>250.000000</td>\n",
       "      <td>250.0</td>\n",
       "      <td>250.0</td>\n",
       "      <td>250.0</td>\n",
       "    </tr>\n",
       "    <tr>\n",
       "      <td>Thiruvananthapuram</td>\n",
       "      <td>167.267442</td>\n",
       "      <td>150.0</td>\n",
       "      <td>5.0</td>\n",
       "      <td>500.0</td>\n",
       "    </tr>\n",
       "  </tbody>\n",
       "</table>\n",
       "</div>"
      ],
      "text/plain": [
       "                           mean median    min    max\n",
       "                           Fees   Fees   Fees   Fees\n",
       "City                                                \n",
       " Bangalore           328.842607  300.0   30.0  900.0\n",
       " Chennai             283.602339  200.0   50.0  950.0\n",
       " Coimbatore          154.298246  150.0   50.0  700.0\n",
       " Delhi               363.006757  300.0   50.0  900.0\n",
       " Ernakulam           188.431373  200.0   10.0  600.0\n",
       " Hyderabad           307.507886  300.0   20.0  800.0\n",
       " Mumbai              308.292863  200.0   10.0  920.0\n",
       " Sector 5            250.000000  250.0  250.0  250.0\n",
       " Thiruvananthapuram  167.267442  150.0    5.0  500.0"
      ]
     },
     "execution_count": 128,
     "metadata": {},
     "output_type": "execute_result"
    }
   ],
   "source": [
    "pd.pivot_table(df_doc,index=['City'],values='Fees',aggfunc=[np.mean,np.median,min,max])"
   ]
  },
  {
   "cell_type": "markdown",
   "metadata": {},
   "source": [
    "We can see that the doctors in Delhi have highest mean fees whereas it is lowest in Coimbatore"
   ]
  },
  {
   "cell_type": "code",
   "execution_count": 140,
   "metadata": {},
   "outputs": [
    {
     "data": {
      "image/png": "[encoded data removed]",
      "text/plain": [
       "<Figure size 720x360 with 1 Axes>"
      ]
     },
     "metadata": {
      "needs_background": "light"
     },
     "output_type": "display_data"
    }
   ],
   "source": [
    "plt.figure(figsize=(10,5))\n",
    "sns.barplot(x=\"City\",y=\"Fees\",data=df_doc)\n",
    "plt.xticks(rotation=20)\n",
    "plt.show()"
   ]
  },
  {
   "cell_type": "code",
   "execution_count": 144,
   "metadata": {},
   "outputs": [
    {
     "data": {
      "image/png": "[encoded data removed]",
      "text/plain": [
       "<Figure size 720x864 with 1 Axes>"
      ]
     },
     "metadata": {
      "needs_background": "light"
     },
     "output_type": "display_data"
    }
   ],
   "source": [
    "plt.figure(figsize=(10,12))\n",
    "sns.scatterplot(y=\"Experience\",x=\"Fees\",size='Profile',data=df_doc)\n",
    "plt.show()"
   ]
  },
  {
   "cell_type": "code",
   "execution_count": 151,
   "metadata": {},
   "outputs": [
    {
     "data": {
      "image/png": "[encoded data removed]",
      "text/plain": [
       "<Figure size 1440x720 with 1 Axes>"
      ]
     },
     "metadata": {
      "needs_background": "light"
     },
     "output_type": "display_data"
    }
   ],
   "source": [
    "plt.figure(figsize=(20,10))\n",
    "sns.boxplot(x=\"Experience\",y=\"Fees\",data=df_doc)\n",
    "plt.show()"
   ]
  },
  {
   "cell_type": "markdown",
   "metadata": {},
   "source": [
    "**We can see that doctor with maximum fees have experience range in 14 years to 34 years, and doctors with experience more than 40 are charging less fees**"
   ]
  },
  {
   "cell_type": "code",
   "execution_count": 152,
   "metadata": {},
   "outputs": [
    {
     "data": {
      "text/plain": [
       "Experience      int32\n",
       "Fees          float64\n",
       "Profile        object\n",
       "Rating         object\n",
       "Locality       object\n",
       "City           object\n",
       "qual_1         object\n",
       "qual_2         object\n",
       "qual_3         object\n",
       "qual_4         object\n",
       "qual_5         object\n",
       "qual_6         object\n",
       "qual_7         object\n",
       "qual_8         object\n",
       "qual_9         object\n",
       "dtype: object"
      ]
     },
     "execution_count": 152,
     "metadata": {},
     "output_type": "execute_result"
    }
   ],
   "source": [
    "df_doc.dtypes"
   ]
  },
  {
   "cell_type": "markdown",
   "metadata": {},
   "source": [
    "We have to encode these object type datasets first, we use Label Encoder here"
   ]
  },
  {
   "cell_type": "code",
   "execution_count": 154,
   "metadata": {},
   "outputs": [],
   "source": [
    "#Encoding the data using Label Encoder\n",
    "from sklearn.preprocessing import LabelEncoder\n",
    "for col in df_doc.columns:\n",
    "    if df_doc[col].dtype==\"object\":\n",
    "        df_doc[col]=LabelEncoder().fit_transform(df_doc[col])"
   ]
  },
  {
   "cell_type": "code",
   "execution_count": 156,
   "metadata": {},
   "outputs": [
    {
     "data": {
      "text/html": [
       "<div>\n",
       "<style scoped>\n",
       "    .dataframe tbody tr th:only-of-type {\n",
       "        vertical-align: middle;\n",
       "    }\n",
       "\n",
       "    .dataframe tbody tr th {\n",
       "        vertical-align: top;\n",
       "    }\n",
       "\n",
       "    .dataframe thead th {\n",
       "        text-align: right;\n",
       "    }\n",
       "</style>\n",
       "<table border=\"1\" class=\"dataframe\">\n",
       "  <thead>\n",
       "    <tr style=\"text-align: right;\">\n",
       "      <th></th>\n",
       "      <th>Experience</th>\n",
       "      <th>Fees</th>\n",
       "      <th>Profile</th>\n",
       "      <th>Rating</th>\n",
       "      <th>Locality</th>\n",
       "      <th>City</th>\n",
       "      <th>qual_1</th>\n",
       "      <th>qual_2</th>\n",
       "      <th>qual_3</th>\n",
       "      <th>qual_4</th>\n",
       "      <th>qual_5</th>\n",
       "      <th>qual_6</th>\n",
       "      <th>qual_7</th>\n",
       "      <th>qual_8</th>\n",
       "      <th>qual_9</th>\n",
       "    </tr>\n",
       "  </thead>\n",
       "  <tbody>\n",
       "    <tr>\n",
       "      <td>1982</td>\n",
       "      <td>10</td>\n",
       "      <td>NaN</td>\n",
       "      <td>0</td>\n",
       "      <td>0</td>\n",
       "      <td>76</td>\n",
       "      <td>0</td>\n",
       "      <td>5</td>\n",
       "      <td>180</td>\n",
       "      <td>480</td>\n",
       "      <td>252</td>\n",
       "      <td>117</td>\n",
       "      <td>36</td>\n",
       "      <td>15</td>\n",
       "      <td>8</td>\n",
       "      <td>6</td>\n",
       "    </tr>\n",
       "    <tr>\n",
       "      <td>1983</td>\n",
       "      <td>4</td>\n",
       "      <td>NaN</td>\n",
       "      <td>2</td>\n",
       "      <td>0</td>\n",
       "      <td>135</td>\n",
       "      <td>1</td>\n",
       "      <td>110</td>\n",
       "      <td>491</td>\n",
       "      <td>309</td>\n",
       "      <td>252</td>\n",
       "      <td>117</td>\n",
       "      <td>36</td>\n",
       "      <td>15</td>\n",
       "      <td>8</td>\n",
       "      <td>6</td>\n",
       "    </tr>\n",
       "    <tr>\n",
       "      <td>1984</td>\n",
       "      <td>9</td>\n",
       "      <td>NaN</td>\n",
       "      <td>4</td>\n",
       "      <td>0</td>\n",
       "      <td>658</td>\n",
       "      <td>1</td>\n",
       "      <td>100</td>\n",
       "      <td>323</td>\n",
       "      <td>480</td>\n",
       "      <td>252</td>\n",
       "      <td>117</td>\n",
       "      <td>36</td>\n",
       "      <td>15</td>\n",
       "      <td>8</td>\n",
       "      <td>6</td>\n",
       "    </tr>\n",
       "    <tr>\n",
       "      <td>1985</td>\n",
       "      <td>12</td>\n",
       "      <td>NaN</td>\n",
       "      <td>1</td>\n",
       "      <td>51</td>\n",
       "      <td>34</td>\n",
       "      <td>0</td>\n",
       "      <td>6</td>\n",
       "      <td>494</td>\n",
       "      <td>480</td>\n",
       "      <td>252</td>\n",
       "      <td>117</td>\n",
       "      <td>36</td>\n",
       "      <td>15</td>\n",
       "      <td>8</td>\n",
       "      <td>6</td>\n",
       "    </tr>\n",
       "    <tr>\n",
       "      <td>1986</td>\n",
       "      <td>8</td>\n",
       "      <td>NaN</td>\n",
       "      <td>2</td>\n",
       "      <td>0</td>\n",
       "      <td>607</td>\n",
       "      <td>1</td>\n",
       "      <td>100</td>\n",
       "      <td>287</td>\n",
       "      <td>473</td>\n",
       "      <td>252</td>\n",
       "      <td>117</td>\n",
       "      <td>36</td>\n",
       "      <td>15</td>\n",
       "      <td>8</td>\n",
       "      <td>6</td>\n",
       "    </tr>\n",
       "  </tbody>\n",
       "</table>\n",
       "</div>"
      ],
      "text/plain": [
       "      Experience  Fees  Profile  Rating  Locality  City  qual_1  qual_2  \\\n",
       "1982          10   NaN        0       0        76     0       5     180   \n",
       "1983           4   NaN        2       0       135     1     110     491   \n",
       "1984           9   NaN        4       0       658     1     100     323   \n",
       "1985          12   NaN        1      51        34     0       6     494   \n",
       "1986           8   NaN        2       0       607     1     100     287   \n",
       "\n",
       "      qual_3  qual_4  qual_5  qual_6  qual_7  qual_8  qual_9  \n",
       "1982     480     252     117      36      15       8       6  \n",
       "1983     309     252     117      36      15       8       6  \n",
       "1984     480     252     117      36      15       8       6  \n",
       "1985     480     252     117      36      15       8       6  \n",
       "1986     473     252     117      36      15       8       6  "
      ]
     },
     "execution_count": 156,
     "metadata": {},
     "output_type": "execute_result"
    }
   ],
   "source": [
    "df_doc.tail()"
   ]
  },
  {
   "cell_type": "code",
   "execution_count": 160,
   "metadata": {},
   "outputs": [],
   "source": [
    "#Separating test and train data set\n",
    "df_test=df_doc.loc[df_doc[\"Fees\"].isnull()]"
   ]
  },
  {
   "cell_type": "code",
   "execution_count": 162,
   "metadata": {},
   "outputs": [
    {
     "data": {
      "text/plain": [
       "(1981, 15)"
      ]
     },
     "execution_count": 162,
     "metadata": {},
     "output_type": "execute_result"
    }
   ],
   "source": [
    "df_test.shape"
   ]
  },
  {
   "cell_type": "markdown",
   "metadata": {},
   "source": [
    "We have separated test data and we will drop the test data using null values from our df_doc data set so that only train data will remain"
   ]
  },
  {
   "cell_type": "code",
   "execution_count": 163,
   "metadata": {},
   "outputs": [],
   "source": [
    "df_doc.dropna(axis=0,inplace=True)"
   ]
  },
  {
   "cell_type": "code",
   "execution_count": 164,
   "metadata": {},
   "outputs": [
    {
     "data": {
      "text/plain": [
       "(5935, 15)"
      ]
     },
     "execution_count": 164,
     "metadata": {},
     "output_type": "execute_result"
    }
   ],
   "source": [
    "df_doc.shape"
   ]
  },
  {
   "cell_type": "markdown",
   "metadata": {},
   "source": [
    "We have now left with only train data set in our df_doc"
   ]
  },
  {
   "cell_type": "code",
   "execution_count": 166,
   "metadata": {},
   "outputs": [],
   "source": [
    "#Separating the input and output from train dataset\n",
    "df_x=df_doc.drop(columns=[\"Fees\"])\n",
    "y=df_doc[[\"Fees\"]]"
   ]
  },
  {
   "cell_type": "code",
   "execution_count": 167,
   "metadata": {},
   "outputs": [],
   "source": [
    "#Performing scaling\n",
    "from sklearn.preprocessing import StandardScaler\n",
    "sc = StandardScaler()\n",
    "x = sc.fit_transform(df_x)\n",
    "x=pd.DataFrame(x,columns=df_x.columns)"
   ]
  },
  {
   "cell_type": "code",
   "execution_count": 188,
   "metadata": {},
   "outputs": [],
   "source": [
    "#Importing some neccessary libraries \n",
    "from sklearn.metrics import mean_absolute_error\n",
    "from sklearn.metrics import mean_squared_error\n",
    "from sklearn.metrics import r2_score\n",
    "from sklearn.metrics import mean_squared_error\n",
    "from sklearn.model_selection import cross_val_score\n",
    "from sklearn.model_selection import train_test_split"
   ]
  },
  {
   "cell_type": "code",
   "execution_count": 169,
   "metadata": {},
   "outputs": [],
   "source": [
    "#Checking for best random state which give best r2 score for various training techniques used to get best prediction\n",
    "# Defining a function to check for best random state and r2 score.\n",
    "def maxr2_score(tec,x,y):\n",
    "    max_r_score=0\n",
    "    for r_state in range(42,100):\n",
    "        train_x,test_x,train_y,test_y = train_test_split(x,y,random_state = r_state,test_size=0.20)\n",
    "        tec.fit(train_x,train_y)\n",
    "        pred = tec.predict(test_x)\n",
    "        temp=r2_score(test_y,pred)\n",
    "        if temp>max_r_score:\n",
    "            max_r_score=temp\n",
    "            final_r_state=r_state\n",
    "    print(\"max r2 score is : \",max_r_score, 'corresponding to random state: ',final_r_state,)"
   ]
  },
  {
   "cell_type": "code",
   "execution_count": 181,
   "metadata": {},
   "outputs": [],
   "source": [
    "#Importing various methods from libraries\n",
    "from sklearn.linear_model import LinearRegression\n",
    "from sklearn.tree import DecisionTreeRegressor\n",
    "from sklearn.ensemble import RandomForestRegressor\n",
    "from sklearn.ensemble import AdaBoostRegressor\n",
    "from sklearn.ensemble import GradientBoostingRegressor\n",
    "from sklearn.model_selection import GridSearchCV\n",
    "from sklearn.neighbors import KNeighborsRegressor\n",
    "from sklearn import svm\n",
    "from sklearn.svm import SVR\n",
    "import warnings\n",
    "warnings.filterwarnings(\"ignore\")"
   ]
  },
  {
   "cell_type": "code",
   "execution_count": 173,
   "metadata": {},
   "outputs": [],
   "source": [
    "train_x,test_x,train_y,test_y=train_test_split(x, y,test_size=0.20,random_state=42)"
   ]
  },
  {
   "cell_type": "code",
   "execution_count": 174,
   "metadata": {},
   "outputs": [
    {
     "name": "stdout",
     "output_type": "stream",
     "text": [
      "max r2 score is :  0.11885585325658388 corresponding to random state:  43\n"
     ]
    }
   ],
   "source": [
    "LR=LinearRegression()\n",
    "maxr2_score(LR,x,y)"
   ]
  },
  {
   "cell_type": "code",
   "execution_count": 176,
   "metadata": {},
   "outputs": [
    {
     "name": "stdout",
     "output_type": "stream",
     "text": [
      "max r2 score is :  0.09327281933862619 corresponding to random state:  48\n"
     ]
    }
   ],
   "source": [
    "KN=KNeighborsRegressor()\n",
    "maxr2_score(KN,x,y)"
   ]
  },
  {
   "cell_type": "code",
   "execution_count": 177,
   "metadata": {},
   "outputs": [
    {
     "name": "stdout",
     "output_type": "stream",
     "text": [
      "max r2 score is :  0.16264748291682052 corresponding to random state:  63\n"
     ]
    }
   ],
   "source": [
    "RF=RandomForestRegressor()\n",
    "maxr2_score(RF,x,y)"
   ]
  },
  {
   "cell_type": "code",
   "execution_count": 178,
   "metadata": {},
   "outputs": [
    {
     "name": "stdout",
     "output_type": "stream",
     "text": [
      "max r2 score is :  0.15775048475935982 corresponding to random state:  43\n"
     ]
    }
   ],
   "source": [
    "AB=AdaBoostRegressor()\n",
    "maxr2_score(AB,x,y)"
   ]
  },
  {
   "cell_type": "code",
   "execution_count": 179,
   "metadata": {},
   "outputs": [
    {
     "name": "stdout",
     "output_type": "stream",
     "text": [
      "max r2 score is :  0.23623829697502274 corresponding to random state:  50\n"
     ]
    }
   ],
   "source": [
    "GB=GradientBoostingRegressor()\n",
    "maxr2_score(GB,x,y)"
   ]
  },
  {
   "cell_type": "markdown",
   "metadata": {},
   "source": [
    "We can see the r2 score using different techniques, and Gradient Boosting Regression is giving maximum r2 score"
   ]
  },
  {
   "cell_type": "code",
   "execution_count": 187,
   "metadata": {},
   "outputs": [
    {
     "data": {
      "text/plain": [
       "{'learning_rate': 0.1, 'max_depth': 5, 'n_estimators': 100}"
      ]
     },
     "execution_count": 187,
     "metadata": {},
     "output_type": "execute_result"
    }
   ],
   "source": [
    "#Using Grid search CV for best parameters to improve the r2 score\n",
    "GB=GradientBoostingRegressor()\n",
    "parameters =parameters = {\n",
    "    \"n_estimators\":[5,50,100],\n",
    "    \"max_depth\":[1,3,5],\n",
    "    \"learning_rate\":[0.01,0.1,1]}\n",
    "clf = GridSearchCV(GB,parameters, cv=5)\n",
    "clf.fit(x,y)\n",
    "clf.best_params_"
   ]
  },
  {
   "cell_type": "code",
   "execution_count": 198,
   "metadata": {},
   "outputs": [
    {
     "name": "stdout",
     "output_type": "stream",
     "text": [
      "max r2 score is :  0.264753821532848 corresponding to random state:  63\n"
     ]
    }
   ],
   "source": [
    "GB=GradientBoostingRegressor(learning_rate=0.1,max_depth=5,n_estimators=100)\n",
    "maxr2_score(GB,x,y)"
   ]
  },
  {
   "cell_type": "markdown",
   "metadata": {},
   "source": [
    "We will now save our final model using Gradient Boost Regression model"
   ]
  },
  {
   "cell_type": "code",
   "execution_count": 203,
   "metadata": {},
   "outputs": [],
   "source": [
    "#We have to remove the Fees(null) column from our test dataset in order to predict the fees using our final model\n",
    "df_test.drop(columns=['Fees'],axis=1,inplace=True)"
   ]
  },
  {
   "cell_type": "code",
   "execution_count": 204,
   "metadata": {},
   "outputs": [
    {
     "data": {
      "text/html": [
       "<div>\n",
       "<style scoped>\n",
       "    .dataframe tbody tr th:only-of-type {\n",
       "        vertical-align: middle;\n",
       "    }\n",
       "\n",
       "    .dataframe tbody tr th {\n",
       "        vertical-align: top;\n",
       "    }\n",
       "\n",
       "    .dataframe thead th {\n",
       "        text-align: right;\n",
       "    }\n",
       "</style>\n",
       "<table border=\"1\" class=\"dataframe\">\n",
       "  <thead>\n",
       "    <tr style=\"text-align: right;\">\n",
       "      <th></th>\n",
       "      <th>Experience</th>\n",
       "      <th>Profile</th>\n",
       "      <th>Rating</th>\n",
       "      <th>Locality</th>\n",
       "      <th>City</th>\n",
       "      <th>qual_1</th>\n",
       "      <th>qual_2</th>\n",
       "      <th>qual_3</th>\n",
       "      <th>qual_4</th>\n",
       "      <th>qual_5</th>\n",
       "      <th>qual_6</th>\n",
       "      <th>qual_7</th>\n",
       "      <th>qual_8</th>\n",
       "      <th>qual_9</th>\n",
       "    </tr>\n",
       "  </thead>\n",
       "  <tbody>\n",
       "    <tr>\n",
       "      <td>0</td>\n",
       "      <td>35</td>\n",
       "      <td>4</td>\n",
       "      <td>0</td>\n",
       "      <td>217</td>\n",
       "      <td>6</td>\n",
       "      <td>100</td>\n",
       "      <td>494</td>\n",
       "      <td>480</td>\n",
       "      <td>252</td>\n",
       "      <td>117</td>\n",
       "      <td>36</td>\n",
       "      <td>15</td>\n",
       "      <td>8</td>\n",
       "      <td>6</td>\n",
       "    </tr>\n",
       "    <tr>\n",
       "      <td>1</td>\n",
       "      <td>31</td>\n",
       "      <td>3</td>\n",
       "      <td>0</td>\n",
       "      <td>923</td>\n",
       "      <td>5</td>\n",
       "      <td>100</td>\n",
       "      <td>159</td>\n",
       "      <td>480</td>\n",
       "      <td>252</td>\n",
       "      <td>117</td>\n",
       "      <td>36</td>\n",
       "      <td>15</td>\n",
       "      <td>8</td>\n",
       "      <td>6</td>\n",
       "    </tr>\n",
       "  </tbody>\n",
       "</table>\n",
       "</div>"
      ],
      "text/plain": [
       "   Experience  Profile  Rating  Locality  City  qual_1  qual_2  qual_3  \\\n",
       "0          35        4       0       217     6     100     494     480   \n",
       "1          31        3       0       923     5     100     159     480   \n",
       "\n",
       "   qual_4  qual_5  qual_6  qual_7  qual_8  qual_9  \n",
       "0     252     117      36      15       8       6  \n",
       "1     252     117      36      15       8       6  "
      ]
     },
     "execution_count": 204,
     "metadata": {},
     "output_type": "execute_result"
    }
   ],
   "source": [
    "df_test.head(2)"
   ]
  },
  {
   "cell_type": "code",
   "execution_count": 205,
   "metadata": {},
   "outputs": [],
   "source": [
    "#Saving our final model using Gradient Boosting Regression method\n",
    "train_x,test_x,train_y,test_y = train_test_split(x,y,random_state=63,test_size=0.20)\n",
    "GB.fit(train_x,train_y)\n",
    "pred_doc_fee=GB.predict(df_test)"
   ]
  },
  {
   "cell_type": "code",
   "execution_count": 206,
   "metadata": {},
   "outputs": [],
   "source": [
    "pred_doc_fee=pd.DataFrame(pred_doc_fee,columns=[\"Fees\"])"
   ]
  },
  {
   "cell_type": "code",
   "execution_count": 208,
   "metadata": {},
   "outputs": [],
   "source": [
    "#saving our predicted fee column to the system\n",
    "\n",
    "pred_doc_fee.to_csv('fees.csv',index=False)"
   ]
  },
  {
   "cell_type": "markdown",
   "metadata": {},
   "source": [
    "**This is we have saved the prdicted doctor fees file to the system**"
   ]
  },
  {
   "cell_type": "code",
   "execution_count": null,
   "metadata": {},
   "outputs": [],
   "source": []
  }
 ],
 "metadata": {
  "kernelspec": {
   "display_name": "Python 3",
   "language": "python",
   "name": "python3"
  },
  "language_info": {
   "codemirror_mode": {
    "name": "ipython",
    "version": 3
   },
   "file_extension": ".py",
   "mimetype": "text/x-python",
   "name": "python",
   "nbconvert_exporter": "python",
   "pygments_lexer": "ipython3",
   "version": "3.8.5"
  }
 },
 "nbformat": 4,
 "nbformat_minor": 2
}
